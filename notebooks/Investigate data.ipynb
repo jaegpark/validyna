{
 "cells": [
  {
   "cell_type": "code",
   "execution_count": 1,
   "metadata": {
    "collapsed": true,
    "pycharm": {
     "name": "#%%\n"
    }
   },
   "outputs": [],
   "source": [
    "from validyna.data import load_data_dictionary, ChunkMultiTaskDataset\n",
    "from config import ROOT_DIR"
   ]
  },
  {
   "cell_type": "code",
   "execution_count": 2,
   "outputs": [],
   "source": [
    "data_dir = f'{ROOT_DIR}/data/default(length=500-pts_per_period=50-resample=True-seed=2022)'\n",
    "datasets = {\n",
    "    'train': f'{data_dir}/train(count=100-ic_noise=0.01-ic_scale=1)',\n",
    "    'val': f'{data_dir}/val(count=30-ic_noise=0.01-ic_scale=1)',\n",
    "    'test': f'{data_dir}/test(count=20-ic_noise=0.1-ic_scale=0.5)'\n",
    "}\n",
    "data = {which: load_data_dictionary(dir_path=path) for which, path in datasets.items()}"
   ],
   "metadata": {
    "collapsed": false,
    "pycharm": {
     "name": "#%%\n"
    }
   }
  },
  {
   "cell_type": "code",
   "execution_count": 3,
   "outputs": [],
   "source": [
    "datasets = {name: ChunkMultiTaskDataset(tensor_dict, n_in=5, n_out=5) for name, tensor_dict in data.items()}"
   ],
   "metadata": {
    "collapsed": false,
    "pycharm": {
     "name": "#%%\n"
    }
   }
  },
  {
   "cell_type": "code",
   "execution_count": 9,
   "outputs": [
    {
     "name": "stdout",
     "output_type": "stream",
     "text": [
      "True\n"
     ]
    }
   ],
   "source": [
    "res = dict()\n",
    "for which, dataset in datasets.items():\n",
    "    res[which] = ' '.join([f'{k}:{v}' for k, v in dataset.classes.items()])\n",
    "print(res['train'] == res['val'] and res['val'] == res['test'])"
   ],
   "metadata": {
    "collapsed": false,
    "pycharm": {
     "name": "#%%\n"
    }
   }
  },
  {
   "cell_type": "code",
   "execution_count": 5,
   "outputs": [
    {
     "name": "stdout",
     "output_type": "stream",
     "text": [
      "train\n",
      "tensor(False)\n",
      "tensor(False)\n",
      "tensor(False)\n",
      "val\n",
      "tensor(False)\n",
      "tensor(False)\n",
      "tensor(False)\n",
      "test\n",
      "tensor(False)\n",
      "tensor(False)\n",
      "tensor(False)\n"
     ]
    }
   ],
   "source": [
    "for which, dataset in datasets.items():\n",
    "    print(which)\n",
    "    for tensor in (dataset.X_in, dataset.X_out, dataset.X_class):\n",
    "        print(tensor.isnan().any() or tensor.isinf().any())"
   ],
   "metadata": {
    "collapsed": false,
    "pycharm": {
     "name": "#%%\n"
    }
   }
  },
  {
   "cell_type": "code",
   "execution_count": null,
   "outputs": [],
   "source": [],
   "metadata": {
    "collapsed": false,
    "pycharm": {
     "name": "#%%\n"
    }
   }
  }
 ],
 "metadata": {
  "kernelspec": {
   "display_name": "Python 3",
   "language": "python",
   "name": "python3"
  },
  "language_info": {
   "codemirror_mode": {
    "name": "ipython",
    "version": 2
   },
   "file_extension": ".py",
   "mimetype": "text/x-python",
   "name": "python",
   "nbconvert_exporter": "python",
   "pygments_lexer": "ipython2",
   "version": "2.7.6"
  }
 },
 "nbformat": 4,
 "nbformat_minor": 0
}