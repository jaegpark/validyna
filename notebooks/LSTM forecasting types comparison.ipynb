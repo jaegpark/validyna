{
 "cells": [
  {
   "cell_type": "code",
   "execution_count": null,
   "metadata": {
    "collapsed": true,
    "pycharm": {
     "name": "#%%\n"
    }
   },
   "outputs": [],
   "source": [
    "import dysts.flows\n",
    "from dysts.base import DynSys\n",
    "\n",
    "from ecodyna.mutitask_models import MultiTaskRNN\n",
    "from ecodyna.plot import plot_3d_trajectories"
   ]
  },
  {
   "cell_type": "code",
   "execution_count": null,
   "outputs": [],
   "source": [
    "def a(attractor_name: str,):\n",
    "    attractor: DynSys = getattr(dysts.flows, attractor_name)()\n",
    "\n",
    "    plot_3d_trajectories()"
   ],
   "metadata": {
    "collapsed": false,
    "pycharm": {
     "name": "#%%\n"
    }
   }
  },
  {
   "cell_type": "code",
   "execution_count": null,
   "outputs": [],
   "source": [
    "data_parameters = {'trajectory_count': 1000, 'trajectory_length': 100}\n",
    "in_out_parameters = {'n_in': 5, 'n_out': 5}\n",
    "common_model_parameters = {'model': 'LSTM', 'n_hidden': 32, 'n_layers': 1, **in_out_parameters}\n",
    "experiment_parameters = {'n_epochs': 5, 'train_part': 0.75, 'n_splits': 2}\n",
    "dataloader_parameters = {'batch_size': 64, 'num_workers': 8, **in_out_parameters}\n",
    "\n",
    "models_and_params = [\n",
    "    (MultiTaskRNN, {'forecast_type': 'n_out'}),\n",
    "    (MultiTaskRNN, {'forecast_type': 'recurrent'})\n",
    "]"
   ],
   "metadata": {
    "collapsed": false,
    "pycharm": {
     "name": "#%%\n"
    }
   }
  },
  {
   "cell_type": "code",
   "execution_count": null,
   "outputs": [],
   "source": [],
   "metadata": {
    "collapsed": false,
    "pycharm": {
     "name": "#%%\n"
    }
   }
  }
 ],
 "metadata": {
  "kernelspec": {
   "display_name": "Python 3",
   "language": "python",
   "name": "python3"
  },
  "language_info": {
   "codemirror_mode": {
    "name": "ipython",
    "version": 2
   },
   "file_extension": ".py",
   "mimetype": "text/x-python",
   "name": "python",
   "nbconvert_exporter": "python",
   "pygments_lexer": "ipython2",
   "version": "2.7.6"
  }
 },
 "nbformat": 4,
 "nbformat_minor": 0
}