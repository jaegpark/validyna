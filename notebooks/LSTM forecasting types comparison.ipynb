{
 "cells": [
  {
   "cell_type": "code",
   "execution_count": 1,
   "metadata": {
    "collapsed": true,
    "pycharm": {
     "name": "#%%\n"
    }
   },
   "outputs": [
    {
     "name": "stderr",
     "output_type": "stream",
     "text": [
      "Global seed set to 42\n"
     ]
    }
   ],
   "source": [
    "import dysts.flows\n",
    "import pytorch_lightning as pl\n",
    "import torch\n",
    "from dysts.base import DynSys\n",
    "from numpy.random import rand\n",
    "from pytorch_lightning.callbacks import EarlyStopping\n",
    "from pytorch_lightning.loggers import WandbLogger\n",
    "from torch.utils.data import TensorDataset, random_split, DataLoader\n",
    "\n",
    "from config import ROOT_DIR\n",
    "from ecodyna.data import generate_trajectories, build_in_out_pair_dataset\n",
    "from ecodyna.metrics import RNNForecastMetricLogger\n",
    "from ecodyna.mutitask_models import MultiTaskRNN\n",
    "from ecodyna.pl_wrappers import LightningForecaster\n",
    "from ecodyna.plot import plot_3d_trajectories\n",
    "\n",
    "# Sets random seed for random, numpy and torch\n",
    "pl.seed_everything(42, workers=True);"
   ]
  },
  {
   "cell_type": "code",
   "execution_count": 2,
   "outputs": [],
   "source": [
    "data_parameters = {'trajectory_count': 100, 'trajectory_length': 1000}\n",
    "in_out_parameters = {'n_in': 10, 'n_out': 5}\n",
    "common_model_parameters = {'model': 'LSTM', 'n_hidden': 32, 'n_layers': 1, **in_out_parameters}\n",
    "experiment_parameters = {'max_epochs': 50, 'train_part': 0.75}\n",
    "dataloader_parameters = {'batch_size': 64, 'num_workers': 8}\n",
    "\n",
    "train_size = int(experiment_parameters['train_part'] * data_parameters['trajectory_count'])\n",
    "val_size = data_parameters['trajectory_count'] - train_size"
   ],
   "metadata": {
    "collapsed": false,
    "pycharm": {
     "name": "#%%\n"
    }
   }
  },
  {
   "cell_type": "code",
   "execution_count": 3,
   "outputs": [],
   "source": [
    "def train_rnn_and_plot_different_forecast_types(Model, model_parameters, attractor_name):\n",
    "    attractor: DynSys = getattr(dysts.flows, attractor_name)()\n",
    "    attractor.dt *= 10\n",
    "\n",
    "    attractor_x0 = attractor.ic.copy()\n",
    "    space_dim = len(attractor_x0)\n",
    "\n",
    "    data = generate_trajectories(attractor, **data_parameters, ic_fun=lambda: rand(space_dim) - 0.5 + attractor_x0)\n",
    "    dataset = TensorDataset(data)\n",
    "\n",
    "    train_dataset, val_dataset = random_split(dataset, [train_size, val_size])\n",
    "    train_data = data[train_dataset.indices]\n",
    "    val_data = data[val_dataset.indices]\n",
    "\n",
    "    chunk_train_dataset = build_in_out_pair_dataset(train_dataset, **in_out_parameters)\n",
    "    chunk_val_dataset = build_in_out_pair_dataset(val_dataset, **in_out_parameters)\n",
    "\n",
    "    chunk_train_dl = DataLoader(chunk_train_dataset, **dataloader_parameters, shuffle=True)\n",
    "    chunk_val_dl = DataLoader(chunk_val_dataset, **dataloader_parameters)\n",
    "\n",
    "    model = Model(space_dim=space_dim, **model_parameters, **common_model_parameters)\n",
    "    forecaster = LightningForecaster(model=model)\n",
    "\n",
    "    wandb_logger = WandbLogger(\n",
    "        save_dir=f'{ROOT_DIR}/results',\n",
    "        project='notebook-lstm-forecast-types-chunkyness-evaluation-new',\n",
    "        name=f'{model.name()}_{attractor_name}_{model_parameters[\"forecast_type\"]}'\n",
    "    )\n",
    "\n",
    "    wandb_logger.experiment.config.update({\n",
    "        'forecaster': {'name': model.name(), **model_parameters, **common_model_parameters},\n",
    "        'data': {'attractor': attractor_name, **data_parameters},\n",
    "        'dataloader': dataloader_parameters,\n",
    "        'experiment': experiment_parameters\n",
    "    })\n",
    "\n",
    "    trainer = pl.Trainer(max_epochs=experiment_parameters['max_epochs'], callbacks=[EarlyStopping('val_loss', patience=5), RNNForecastMetricLogger(train_dataset, val_dataset)], logger=wandb_logger)\n",
    "\n",
    "    trainer.fit(forecaster, train_dataloaders=chunk_train_dl, val_dataloaders=chunk_val_dl)\n",
    "\n",
    "    train_dataloader = DataLoader(train_dataset, **dataloader_parameters)\n",
    "    val_dataloader = DataLoader(val_dataset, **dataloader_parameters)\n",
    "\n",
    "    train_preds_chunks = torch.concat(trainer.predict(forecaster, dataloaders=train_dataloader))\n",
    "    val_preds_chunks = torch.concat(trainer.predict(forecaster, dataloaders=val_dataloader))\n",
    "\n",
    "    if model_parameters['forecast_type'] == 'recurrent':\n",
    "        forecaster.prediction_func_name = 'forecast_recurrently_one'\n",
    "        train_preds_recurrently_one = torch.concat(trainer.predict(forecaster, dataloaders=train_dataloader))\n",
    "        val_preds_recurrently_one = torch.concat(trainer.predict(forecaster, dataloaders=val_dataloader))\n",
    "\n",
    "        plot_3d_trajectories(\n",
    "            labels=['ground truth (train)', 'prediction (chunk by chunk)', 'prediction (recurrently 1 by 1)'],\n",
    "            tensors=[train_data, train_preds_chunks, train_preds_recurrently_one],\n",
    "            n_plots=16\n",
    "        )\n",
    "        plot_3d_trajectories(\n",
    "            labels=['ground truth (validation)', 'prediction (chunk by chunk)', 'prediction (recurrently 1 by 1)'],\n",
    "            tensors=[val_data, val_preds_chunks, val_preds_recurrently_one],\n",
    "            n_plots=16\n",
    "        )\n",
    "    elif model_parameters['forecast_type'] == 'n_out':\n",
    "        forecaster.prediction_func_name = 'forecast_recurrently_n_out_first'\n",
    "        train_preds_n_out_first = torch.concat(trainer.predict(forecaster, dataloaders=train_dataloader))\n",
    "        val_preds_n_out_first = torch.concat(trainer.predict(forecaster, dataloaders=val_dataloader))\n",
    "\n",
    "        plot_3d_trajectories(\n",
    "            labels=['ground truth (train)', 'prediction (chunk by chunk)', 'prediction (n_out first)'],\n",
    "            tensors=[train_data, train_preds_chunks, train_preds_n_out_first],\n",
    "            n_plots=16\n",
    "        )\n",
    "        plot_3d_trajectories(\n",
    "            labels=['ground truth (validation)', 'prediction (chunk by chunk)', 'prediction (n_out first)'],\n",
    "            tensors=[val_data, val_preds_chunks, val_preds_n_out_first],\n",
    "            n_plots=16\n",
    "        )\n",
    "\n",
    "    wandb_logger.experiment.finish(quiet=True)"
   ],
   "metadata": {
    "collapsed": false,
    "pycharm": {
     "name": "#%%\n"
    }
   }
  },
  {
   "cell_type": "code",
   "execution_count": 4,
   "outputs": [
    {
     "name": "stderr",
     "output_type": "stream",
     "text": [
      "\u001B[34m\u001B[1mwandb\u001B[0m: Currently logged in as: \u001B[33mstreitlua\u001B[0m (use `wandb login --relogin` to force relogin)\n"
     ]
    },
    {
     "data": {
      "text/plain": "<IPython.core.display.HTML object>",
      "text/html": "Tracking run with wandb version 0.12.15"
     },
     "metadata": {},
     "output_type": "display_data"
    },
    {
     "data": {
      "text/plain": "<IPython.core.display.HTML object>",
      "text/html": "Run data is saved locally in <code>/home/lstreit/UofT/ecodyna/notebooks/results/wandb/run-20220425_162717-3evgkb6t</code>"
     },
     "metadata": {},
     "output_type": "display_data"
    },
    {
     "data": {
      "text/plain": "<IPython.core.display.HTML object>",
      "text/html": "Syncing run <strong><a href=\"https://wandb.ai/streitlua/notebook-lstm-forecast-types-chunkyness-evaluation-new/runs/3evgkb6t\" target=\"_blank\">LSTM_Lorenz_recurrent</a></strong> to <a href=\"https://wandb.ai/streitlua/notebook-lstm-forecast-types-chunkyness-evaluation-new\" target=\"_blank\">Weights & Biases</a> (<a href=\"https://wandb.me/run\" target=\"_blank\">docs</a>)<br/>"
     },
     "metadata": {},
     "output_type": "display_data"
    },
    {
     "name": "stderr",
     "output_type": "stream",
     "text": [
      "GPU available: False, used: False\n",
      "TPU available: False, using: 0 TPU cores\n",
      "IPU available: False, using: 0 IPUs\n",
      "\n",
      "  | Name  | Type         | Params\n",
      "---------------------------------------\n",
      "0 | model | MultiTaskRNN | 11.7 K\n",
      "---------------------------------------\n",
      "11.7 K    Trainable params\n",
      "0         Non-trainable params\n",
      "11.7 K    Total params\n",
      "0.047     Total estimated model params size (MB)\n"
     ]
    },
    {
     "data": {
      "text/plain": "Validation sanity check: 0it [00:00, ?it/s]",
      "application/vnd.jupyter.widget-view+json": {
       "version_major": 2,
       "version_minor": 0,
       "model_id": "9ed787d2914943c5b8ce0168a45bdd67"
      }
     },
     "metadata": {},
     "output_type": "display_data"
    },
    {
     "name": "stderr",
     "output_type": "stream",
     "text": [
      "Global seed set to 42\n"
     ]
    },
    {
     "data": {
      "text/plain": "Training: 0it [00:00, ?it/s]",
      "application/vnd.jupyter.widget-view+json": {
       "version_major": 2,
       "version_minor": 0,
       "model_id": "d430d268635848bf961476b6389be2af"
      }
     },
     "metadata": {},
     "output_type": "display_data"
    },
    {
     "data": {
      "text/plain": "Validating: 0it [00:00, ?it/s]",
      "application/vnd.jupyter.widget-view+json": {
       "version_major": 2,
       "version_minor": 0,
       "model_id": "8674acbb731849a9aaf2ad65cb276953"
      }
     },
     "metadata": {},
     "output_type": "display_data"
    },
    {
     "data": {
      "text/plain": "Validating: 0it [00:00, ?it/s]",
      "application/vnd.jupyter.widget-view+json": {
       "version_major": 2,
       "version_minor": 0,
       "model_id": "79121a8fccd04233ab8829305ab189f4"
      }
     },
     "metadata": {},
     "output_type": "display_data"
    },
    {
     "data": {
      "text/plain": "Validating: 0it [00:00, ?it/s]",
      "application/vnd.jupyter.widget-view+json": {
       "version_major": 2,
       "version_minor": 0,
       "model_id": "28a9302cdd2f4733931ff03a0dbc8059"
      }
     },
     "metadata": {},
     "output_type": "display_data"
    },
    {
     "data": {
      "text/plain": "Validating: 0it [00:00, ?it/s]",
      "application/vnd.jupyter.widget-view+json": {
       "version_major": 2,
       "version_minor": 0,
       "model_id": "0768f152a97d406696e33a0ae618c300"
      }
     },
     "metadata": {},
     "output_type": "display_data"
    },
    {
     "data": {
      "text/plain": "Validating: 0it [00:00, ?it/s]",
      "application/vnd.jupyter.widget-view+json": {
       "version_major": 2,
       "version_minor": 0,
       "model_id": "f0648c6db30e46c9bcc72040a53af611"
      }
     },
     "metadata": {},
     "output_type": "display_data"
    },
    {
     "data": {
      "text/plain": "Validating: 0it [00:00, ?it/s]",
      "application/vnd.jupyter.widget-view+json": {
       "version_major": 2,
       "version_minor": 0,
       "model_id": "e9c9d99568084b4d857e183fbe57f751"
      }
     },
     "metadata": {},
     "output_type": "display_data"
    },
    {
     "data": {
      "text/plain": "Validating: 0it [00:00, ?it/s]",
      "application/vnd.jupyter.widget-view+json": {
       "version_major": 2,
       "version_minor": 0,
       "model_id": "4dde11d3a82d40f1beadcb43f2c734c2"
      }
     },
     "metadata": {},
     "output_type": "display_data"
    },
    {
     "data": {
      "text/plain": "Validating: 0it [00:00, ?it/s]",
      "application/vnd.jupyter.widget-view+json": {
       "version_major": 2,
       "version_minor": 0,
       "model_id": "c2258256f1b34d489bab1876b5c96629"
      }
     },
     "metadata": {},
     "output_type": "display_data"
    },
    {
     "name": "stderr",
     "output_type": "stream",
     "text": [
      "/home/lstreit/anaconda3/envs/chaos/lib/python3.8/site-packages/pytorch_lightning/trainer/trainer.py:688: UserWarning: Detected KeyboardInterrupt, attempting graceful shutdown...\n",
      "  rank_zero_warn(\"Detected KeyboardInterrupt, attempting graceful shutdown...\")\n"
     ]
    },
    {
     "data": {
      "text/plain": "Predicting: 1071it [00:00, ?it/s]",
      "application/vnd.jupyter.widget-view+json": {
       "version_major": 2,
       "version_minor": 0,
       "model_id": "a4c1e30e73584085bb0c069b291784ac"
      }
     },
     "metadata": {},
     "output_type": "display_data"
    },
    {
     "name": "stderr",
     "output_type": "stream",
     "text": [
      "Exception ignored in: <function _releaseLock at 0x7fe5fce37550>\n",
      "Traceback (most recent call last):\n",
      "  File \"/home/lstreit/anaconda3/envs/chaos/lib/python3.8/logging/__init__.py\", line 227, in _releaseLock\n",
      "    def _releaseLock():\n",
      "KeyboardInterrupt: \n",
      "Exception ignored in: <function _releaseLock at 0x7fe5fce37550>\n",
      "Traceback (most recent call last):\n",
      "  File \"/home/lstreit/anaconda3/envs/chaos/lib/python3.8/logging/__init__.py\", line 227, in _releaseLock\n",
      "    def _releaseLock():\n",
      "KeyboardInterrupt: \n",
      "Exception ignored in: <function _after_at_fork_child_reinit_locks at 0x7fe5fce37700>\n",
      "Traceback (most recent call last):\n",
      "  File \"/home/lstreit/anaconda3/envs/chaos/lib/python3.8/logging/__init__.py\", line 257, in _after_at_fork_child_reinit_locks\n",
      "      File \"/home/lstreit/anaconda3/envs/chaos/lib/python3.8/_weakrefset.py\", line 59, in __iter__\n",
      "    Exception ignored in: Process wandb_internal:\n",
      "Traceback (most recent call last):\n",
      "  File \"/home/lstreit/anaconda3/envs/chaos/lib/python3.8/multiprocessing/process.py\", line 315, in _bootstrap\n",
      "    self.run()\n",
      "  File \"/home/lstreit/anaconda3/envs/chaos/lib/python3.8/multiprocessing/process.py\", line 108, in run\n",
      "    self._target(*self._args, **self._kwargs)\n",
      "  File \"/home/lstreit/anaconda3/envs/chaos/lib/python3.8/site-packages/wandb/sdk/internal/internal.py\", line 160, in wandb_internal\n",
      "    thread.join()\n",
      "  File \"/home/lstreit/anaconda3/envs/chaos/lib/python3.8/threading.py\", line 1011, in join\n",
      "    self._wait_for_tstate_lock()\n",
      "  File \"/home/lstreit/anaconda3/envs/chaos/lib/python3.8/threading.py\", line 1027, in _wait_for_tstate_lock\n",
      "    elif lock.acquire(block, timeout):\n",
      "KeyboardInterrupt\n",
      "Traceback (most recent call last):\n",
      "  File \"<string>\", line 1, in <module>\n",
      "  File \"/home/lstreit/anaconda3/envs/chaos/lib/python3.8/multiprocessing/spawn.py\", line 116, in spawn_main\n",
      "    exitcode = _main(fd, parent_sentinel)\n",
      "  File \"/home/lstreit/anaconda3/envs/chaos/lib/python3.8/multiprocessing/spawn.py\", line 129, in _main\n",
      "    return self._bootstrap(parent_sentinel)\n",
      "  File \"/home/lstreit/anaconda3/envs/chaos/lib/python3.8/multiprocessing/process.py\", line 333, in _bootstrap\n",
      "    threading._shutdown()\n",
      "  File \"/home/lstreit/anaconda3/envs/chaos/lib/python3.8/threading.py\", line 1388, in _shutdown\n",
      "    lock.acquire()\n",
      "KeyboardInterrupt\n",
      "<function _releaseLock at 0x7fe5fce37550>\n",
      "Traceback (most recent call last):\n",
      "  File \"/home/lstreit/anaconda3/envs/chaos/lib/python3.8/logging/__init__.py\", line 227, in _releaseLock\n",
      "    def _releaseLock():\n",
      "KeyboardInterrupt: \n",
      "with _IterationGuard(self):\n",
      "  File \"/home/lstreit/anaconda3/envs/chaos/lib/python3.8/_weakrefset.py\", line 23, in __enter__\n",
      "    w._iterating.add(self)\n",
      "KeyboardInterrupt: \n",
      "Exception in thread ChkStopThr:\n",
      "Traceback (most recent call last):\n",
      "  File \"/home/lstreit/anaconda3/envs/chaos/lib/python3.8/threading.py\", line 932, in _bootstrap_inner\n",
      "    self.run()\n",
      "  File \"/home/lstreit/anaconda3/envs/chaos/lib/python3.8/threading.py\", line 870, in run\n",
      "    self._target(*self._args, **self._kwargs)\n",
      "  File \"/home/lstreit/anaconda3/envs/chaos/lib/python3.8/site-packages/wandb/sdk/wandb_run.py\", line 170, in check_status\n",
      "    status_response = self._interface.communicate_stop_status()\n",
      "  File \"/home/lstreit/anaconda3/envs/chaos/lib/python3.8/site-packages/wandb/sdk/interface/interface.py\", line 114, in communicate_stop_status\n",
      "    resp = self._communicate_stop_status(status)\n",
      "  File \"/home/lstreit/anaconda3/envs/chaos/lib/python3.8/site-packages/wandb/sdk/interface/interface_shared.py\", line 395, in _communicate_stop_status\n",
      "    resp = self._communicate(req, local=True)\n",
      "  File \"/home/lstreit/anaconda3/envs/chaos/lib/python3.8/site-packages/wandb/sdk/interface/interface_shared.py\", line 226, in _communicate\n",
      "    return self._communicate_async(rec, local=local).get(timeout=timeout)\n",
      "  File \"/home/lstreit/anaconda3/envs/chaos/lib/python3.8/site-packages/wandb/sdk/interface/interface_shared.py\", line 231, in _communicate_async\n",
      "    raise Exception(\"The wandb backend process has shutdown\")\n",
      "Exception: The wandb backend process has shutdown\n",
      "Exception in thread NetStatThr:\n",
      "Traceback (most recent call last):\n",
      "  File \"/home/lstreit/anaconda3/envs/chaos/lib/python3.8/threading.py\", line 932, in _bootstrap_inner\n",
      "    self.run()\n",
      "  File \"/home/lstreit/anaconda3/envs/chaos/lib/python3.8/threading.py\", line 870, in run\n",
      "    self._target(*self._args, **self._kwargs)\n",
      "  File \"/home/lstreit/anaconda3/envs/chaos/lib/python3.8/site-packages/wandb/sdk/wandb_run.py\", line 152, in check_network_status\n",
      "    status_response = self._interface.communicate_network_status()\n",
      "  File \"/home/lstreit/anaconda3/envs/chaos/lib/python3.8/site-packages/wandb/sdk/interface/interface.py\", line 125, in communicate_network_status\n",
      "    resp = self._communicate_network_status(status)\n",
      "  File \"/home/lstreit/anaconda3/envs/chaos/lib/python3.8/site-packages/wandb/sdk/interface/interface_shared.py\", line 405, in _communicate_network_status\n",
      "    resp = self._communicate(req, local=True)\n",
      "  File \"/home/lstreit/anaconda3/envs/chaos/lib/python3.8/site-packages/wandb/sdk/interface/interface_shared.py\", line 226, in _communicate\n",
      "    return self._communicate_async(rec, local=local).get(timeout=timeout)\n",
      "  File \"/home/lstreit/anaconda3/envs/chaos/lib/python3.8/site-packages/wandb/sdk/interface/interface_shared.py\", line 231, in _communicate_async\n",
      "    raise Exception(\"The wandb backend process has shutdown\")\n",
      "Exception: The wandb backend process has shutdown\n"
     ]
    },
    {
     "ename": "TypeError",
     "evalue": "concat(): argument 'tensors' (position 1) must be tuple of Tensors, not NoneType",
     "output_type": "error",
     "traceback": [
      "\u001B[0;31m---------------------------------------------------------------------------\u001B[0m",
      "\u001B[0;31mTypeError\u001B[0m                                 Traceback (most recent call last)",
      "Input \u001B[0;32mIn [4]\u001B[0m, in \u001B[0;36m<cell line: 1>\u001B[0;34m()\u001B[0m\n\u001B[0;32m----> 1\u001B[0m \u001B[43mtrain_rnn_and_plot_different_forecast_types\u001B[49m\u001B[43m(\u001B[49m\u001B[43mModel\u001B[49m\u001B[38;5;241;43m=\u001B[39;49m\u001B[43mMultiTaskRNN\u001B[49m\u001B[43m,\u001B[49m\u001B[43m \u001B[49m\u001B[43mmodel_parameters\u001B[49m\u001B[38;5;241;43m=\u001B[39;49m\u001B[43m{\u001B[49m\u001B[38;5;124;43m'\u001B[39;49m\u001B[38;5;124;43mforecast_type\u001B[39;49m\u001B[38;5;124;43m'\u001B[39;49m\u001B[43m:\u001B[49m\u001B[43m \u001B[49m\u001B[38;5;124;43m'\u001B[39;49m\u001B[38;5;124;43mrecurrent\u001B[39;49m\u001B[38;5;124;43m'\u001B[39;49m\u001B[43m}\u001B[49m\u001B[43m,\u001B[49m\u001B[43m \u001B[49m\u001B[43mattractor_name\u001B[49m\u001B[38;5;241;43m=\u001B[39;49m\u001B[38;5;124;43m'\u001B[39;49m\u001B[38;5;124;43mLorenz\u001B[39;49m\u001B[38;5;124;43m'\u001B[39;49m\u001B[43m)\u001B[49m\n",
      "Input \u001B[0;32mIn [3]\u001B[0m, in \u001B[0;36mtrain_rnn_and_plot_different_forecast_types\u001B[0;34m(Model, model_parameters, attractor_name)\u001B[0m\n\u001B[1;32m     41\u001B[0m train_dataloader \u001B[38;5;241m=\u001B[39m DataLoader(train_dataset, \u001B[38;5;241m*\u001B[39m\u001B[38;5;241m*\u001B[39mdataloader_parameters)\n\u001B[1;32m     42\u001B[0m val_dataloader \u001B[38;5;241m=\u001B[39m DataLoader(val_dataset, \u001B[38;5;241m*\u001B[39m\u001B[38;5;241m*\u001B[39mdataloader_parameters)\n\u001B[0;32m---> 44\u001B[0m train_preds_chunks \u001B[38;5;241m=\u001B[39m \u001B[43mtorch\u001B[49m\u001B[38;5;241;43m.\u001B[39;49m\u001B[43mconcat\u001B[49m\u001B[43m(\u001B[49m\u001B[43mtrainer\u001B[49m\u001B[38;5;241;43m.\u001B[39;49m\u001B[43mpredict\u001B[49m\u001B[43m(\u001B[49m\u001B[43mforecaster\u001B[49m\u001B[43m,\u001B[49m\u001B[43m \u001B[49m\u001B[43mdataloaders\u001B[49m\u001B[38;5;241;43m=\u001B[39;49m\u001B[43mtrain_dataloader\u001B[49m\u001B[43m)\u001B[49m\u001B[43m)\u001B[49m\n\u001B[1;32m     45\u001B[0m val_preds_chunks \u001B[38;5;241m=\u001B[39m torch\u001B[38;5;241m.\u001B[39mconcat(trainer\u001B[38;5;241m.\u001B[39mpredict(forecaster, dataloaders\u001B[38;5;241m=\u001B[39mval_dataloader))\n\u001B[1;32m     47\u001B[0m \u001B[38;5;28;01mif\u001B[39;00m model_parameters[\u001B[38;5;124m'\u001B[39m\u001B[38;5;124mforecast_type\u001B[39m\u001B[38;5;124m'\u001B[39m] \u001B[38;5;241m==\u001B[39m \u001B[38;5;124m'\u001B[39m\u001B[38;5;124mrecurrent\u001B[39m\u001B[38;5;124m'\u001B[39m:\n",
      "\u001B[0;31mTypeError\u001B[0m: concat(): argument 'tensors' (position 1) must be tuple of Tensors, not NoneType"
     ]
    },
    {
     "name": "stdout",
     "output_type": "stream",
     "text": [
      "Error in callback <function _WandbInit._pause_backend at 0x7fe5a57ff5e0> (for post_run_cell):\n"
     ]
    },
    {
     "ename": "Exception",
     "evalue": "The wandb backend process has shutdown",
     "output_type": "error",
     "traceback": [
      "\u001B[0;31m---------------------------------------------------------------------------\u001B[0m",
      "\u001B[0;31mException\u001B[0m                                 Traceback (most recent call last)",
      "File \u001B[0;32m~/anaconda3/envs/chaos/lib/python3.8/site-packages/backcall/backcall.py:104\u001B[0m, in \u001B[0;36mcallback_prototype.<locals>.adapt.<locals>.adapted\u001B[0;34m(*args, **kwargs)\u001B[0m\n\u001B[1;32m    102\u001B[0m                 kwargs\u001B[38;5;241m.\u001B[39mpop(name)\n\u001B[1;32m    103\u001B[0m \u001B[38;5;66;03m#            print(args, kwargs, unmatched_pos, cut_positional, unmatched_kw)\u001B[39;00m\n\u001B[0;32m--> 104\u001B[0m             \u001B[38;5;28;01mreturn\u001B[39;00m \u001B[43mcallback\u001B[49m\u001B[43m(\u001B[49m\u001B[38;5;241;43m*\u001B[39;49m\u001B[43margs\u001B[49m\u001B[43m,\u001B[49m\u001B[43m \u001B[49m\u001B[38;5;241;43m*\u001B[39;49m\u001B[38;5;241;43m*\u001B[39;49m\u001B[43mkwargs\u001B[49m\u001B[43m)\u001B[49m\n",
      "File \u001B[0;32m~/anaconda3/envs/chaos/lib/python3.8/site-packages/wandb/sdk/wandb_init.py:355\u001B[0m, in \u001B[0;36m_WandbInit._pause_backend\u001B[0;34m(self)\u001B[0m\n\u001B[1;32m    353\u001B[0m     res \u001B[38;5;241m=\u001B[39m \u001B[38;5;28mself\u001B[39m\u001B[38;5;241m.\u001B[39mrun\u001B[38;5;241m.\u001B[39mlog_code(root\u001B[38;5;241m=\u001B[39m\u001B[38;5;28;01mNone\u001B[39;00m)\n\u001B[1;32m    354\u001B[0m     logger\u001B[38;5;241m.\u001B[39minfo(\u001B[38;5;124m\"\u001B[39m\u001B[38;5;124msaved code: \u001B[39m\u001B[38;5;132;01m%s\u001B[39;00m\u001B[38;5;124m\"\u001B[39m, res)\n\u001B[0;32m--> 355\u001B[0m \u001B[38;5;28;43mself\u001B[39;49m\u001B[38;5;241;43m.\u001B[39;49m\u001B[43mbackend\u001B[49m\u001B[38;5;241;43m.\u001B[39;49m\u001B[43minterface\u001B[49m\u001B[38;5;241;43m.\u001B[39;49m\u001B[43mpublish_pause\u001B[49m\u001B[43m(\u001B[49m\u001B[43m)\u001B[49m\n",
      "File \u001B[0;32m~/anaconda3/envs/chaos/lib/python3.8/site-packages/wandb/sdk/interface/interface.py:596\u001B[0m, in \u001B[0;36mInterfaceBase.publish_pause\u001B[0;34m(self)\u001B[0m\n\u001B[1;32m    594\u001B[0m \u001B[38;5;28;01mdef\u001B[39;00m \u001B[38;5;21mpublish_pause\u001B[39m(\u001B[38;5;28mself\u001B[39m) \u001B[38;5;241m-\u001B[39m\u001B[38;5;241m>\u001B[39m \u001B[38;5;28;01mNone\u001B[39;00m:\n\u001B[1;32m    595\u001B[0m     pause \u001B[38;5;241m=\u001B[39m pb\u001B[38;5;241m.\u001B[39mPauseRequest()\n\u001B[0;32m--> 596\u001B[0m     \u001B[38;5;28;43mself\u001B[39;49m\u001B[38;5;241;43m.\u001B[39;49m\u001B[43m_publish_pause\u001B[49m\u001B[43m(\u001B[49m\u001B[43mpause\u001B[49m\u001B[43m)\u001B[49m\n",
      "File \u001B[0;32m~/anaconda3/envs/chaos/lib/python3.8/site-packages/wandb/sdk/interface/interface_shared.py:279\u001B[0m, in \u001B[0;36mInterfaceShared._publish_pause\u001B[0;34m(self, pause)\u001B[0m\n\u001B[1;32m    277\u001B[0m \u001B[38;5;28;01mdef\u001B[39;00m \u001B[38;5;21m_publish_pause\u001B[39m(\u001B[38;5;28mself\u001B[39m, pause: pb\u001B[38;5;241m.\u001B[39mPauseRequest) \u001B[38;5;241m-\u001B[39m\u001B[38;5;241m>\u001B[39m \u001B[38;5;28;01mNone\u001B[39;00m:\n\u001B[1;32m    278\u001B[0m     rec \u001B[38;5;241m=\u001B[39m \u001B[38;5;28mself\u001B[39m\u001B[38;5;241m.\u001B[39m_make_request(pause\u001B[38;5;241m=\u001B[39mpause)\n\u001B[0;32m--> 279\u001B[0m     \u001B[38;5;28;43mself\u001B[39;49m\u001B[38;5;241;43m.\u001B[39;49m\u001B[43m_publish\u001B[49m\u001B[43m(\u001B[49m\u001B[43mrec\u001B[49m\u001B[43m)\u001B[49m\n",
      "File \u001B[0;32m~/anaconda3/envs/chaos/lib/python3.8/site-packages/wandb/sdk/interface/interface_queue.py:49\u001B[0m, in \u001B[0;36mInterfaceQueue._publish\u001B[0;34m(self, record, local)\u001B[0m\n\u001B[1;32m     47\u001B[0m \u001B[38;5;28;01mdef\u001B[39;00m \u001B[38;5;21m_publish\u001B[39m(\u001B[38;5;28mself\u001B[39m, record: \u001B[38;5;124m\"\u001B[39m\u001B[38;5;124mpb.Record\u001B[39m\u001B[38;5;124m\"\u001B[39m, local: \u001B[38;5;28mbool\u001B[39m \u001B[38;5;241m=\u001B[39m \u001B[38;5;28;01mNone\u001B[39;00m) \u001B[38;5;241m-\u001B[39m\u001B[38;5;241m>\u001B[39m \u001B[38;5;28;01mNone\u001B[39;00m:\n\u001B[1;32m     48\u001B[0m     \u001B[38;5;28;01mif\u001B[39;00m \u001B[38;5;28mself\u001B[39m\u001B[38;5;241m.\u001B[39m_process_check \u001B[38;5;129;01mand\u001B[39;00m \u001B[38;5;28mself\u001B[39m\u001B[38;5;241m.\u001B[39m_process \u001B[38;5;129;01mand\u001B[39;00m \u001B[38;5;129;01mnot\u001B[39;00m \u001B[38;5;28mself\u001B[39m\u001B[38;5;241m.\u001B[39m_process\u001B[38;5;241m.\u001B[39mis_alive():\n\u001B[0;32m---> 49\u001B[0m         \u001B[38;5;28;01mraise\u001B[39;00m \u001B[38;5;167;01mException\u001B[39;00m(\u001B[38;5;124m\"\u001B[39m\u001B[38;5;124mThe wandb backend process has shutdown\u001B[39m\u001B[38;5;124m\"\u001B[39m)\n\u001B[1;32m     50\u001B[0m     \u001B[38;5;28;01mif\u001B[39;00m local:\n\u001B[1;32m     51\u001B[0m         record\u001B[38;5;241m.\u001B[39mcontrol\u001B[38;5;241m.\u001B[39mlocal \u001B[38;5;241m=\u001B[39m local\n",
      "\u001B[0;31mException\u001B[0m: The wandb backend process has shutdown"
     ]
    }
   ],
   "source": [
    "train_rnn_and_plot_different_forecast_types(Model=MultiTaskRNN, model_parameters={'forecast_type': 'recurrent'}, attractor_name='Lorenz')"
   ],
   "metadata": {
    "collapsed": false,
    "pycharm": {
     "name": "#%%\n"
    }
   }
  },
  {
   "cell_type": "code",
   "execution_count": null,
   "outputs": [],
   "source": [
    "train_rnn_and_plot_different_forecast_types(Model=MultiTaskRNN, model_parameters={'forecast_type': 'n_out'}, attractor_name='Lorenz')"
   ],
   "metadata": {
    "collapsed": false,
    "pycharm": {
     "name": "#%%\n"
    }
   }
  },
  {
   "cell_type": "code",
   "execution_count": null,
   "outputs": [],
   "source": [],
   "metadata": {
    "collapsed": false,
    "pycharm": {
     "name": "#%%\n"
    }
   }
  }
 ],
 "metadata": {
  "kernelspec": {
   "display_name": "Python 3",
   "language": "python",
   "name": "python3"
  },
  "language_info": {
   "codemirror_mode": {
    "name": "ipython",
    "version": 2
   },
   "file_extension": ".py",
   "mimetype": "text/x-python",
   "name": "python",
   "nbconvert_exporter": "python",
   "pygments_lexer": "ipython2",
   "version": "2.7.6"
  }
 },
 "nbformat": 4,
 "nbformat_minor": 0
}