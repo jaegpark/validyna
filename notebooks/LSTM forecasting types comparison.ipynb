{
 "cells": [
  {
   "cell_type": "code",
   "execution_count": 1,
   "metadata": {
    "collapsed": true,
    "pycharm": {
     "name": "#%%\n"
    }
   },
   "outputs": [],
   "source": [
    "import dysts.flows\n",
    "import pytorch_lightning as pl\n",
    "import torch\n",
    "from dysts.base import DynSys\n",
    "from numpy.random import rand\n",
    "from pytorch_lightning.callbacks import EarlyStopping\n",
    "from pytorch_lightning.loggers import WandbLogger\n",
    "from torch.utils.data import TensorDataset, random_split, DataLoader\n",
    "\n",
    "from config import ROOT_DIR\n",
    "from ecodyna.data import build_in_out_pair_dataset, load_or_generate_and_save\n",
    "from ecodyna.metrics import ForecastMetricLogger\n",
    "from ecodyna.mutitask_models import MultiTaskRNN\n",
    "from ecodyna.pl_wrappers import LightningForecaster\n",
    "from ecodyna.plot import plot_1d_trajectories"
   ]
  },
  {
   "cell_type": "code",
   "execution_count": 2,
   "outputs": [],
   "source": [
    "data_parameters = {'trajectory_count': 100, 'trajectory_length': 1000, 'resample': True, 'pts_per_period': 50}\n",
    "in_out_parameters = {'n_in': 10, 'n_out': 5}\n",
    "common_model_parameters = {'n_hidden': 32, 'n_layers': 1, **in_out_parameters}\n",
    "experiment_parameters = {'max_epochs': 50, 'train_part': 0.75, 'random_seed': 26}\n",
    "dataloader_parameters = {'batch_size': 64, 'num_workers': 8}\n",
    "\n",
    "train_size = int(experiment_parameters['train_part'] * data_parameters['trajectory_count'])\n",
    "val_size = data_parameters['trajectory_count'] - train_size\n",
    "\n",
    "attractor_name = 'Lorenz'"
   ],
   "metadata": {
    "collapsed": false,
    "pycharm": {
     "name": "#%%\n"
    }
   }
  },
  {
   "cell_type": "code",
   "execution_count": 3,
   "outputs": [
    {
     "name": "stderr",
     "output_type": "stream",
     "text": [
      "Global seed set to 26\n"
     ]
    }
   ],
   "source": [
    "# Sets random seed for random, numpy and torch\n",
    "pl.seed_everything(experiment_parameters['random_seed'], workers=True);"
   ],
   "metadata": {
    "collapsed": false,
    "pycharm": {
     "name": "#%%\n"
    }
   }
  },
  {
   "cell_type": "code",
   "execution_count": 4,
   "outputs": [],
   "source": [
    "attractor: DynSys = getattr(dysts.flows, attractor_name)()\n",
    "\n",
    "attractor_x0 = attractor.ic.copy()\n",
    "space_dim = len(attractor_x0)\n",
    "\n",
    "data = load_or_generate_and_save(path=f'{ROOT_DIR}/data/attractor={attractor_name}-{\"-\".join([f\"{k}={v}\" for k, v in data_parameters.items()])}',\n",
    "                                 attractor=attractor, verbose=True, **data_parameters,\n",
    "                                 ic_fun=lambda: rand(space_dim) - 0.5 + attractor_x0)\n",
    "dataset = TensorDataset(data)\n",
    "train_dataset, val_dataset = random_split(dataset, [train_size, val_size])\n",
    "train_data = data[train_dataset.indices]\n",
    "val_data = data[val_dataset.indices]\n",
    "\n",
    "chunk_train_dataset = build_in_out_pair_dataset(train_dataset, **in_out_parameters)\n",
    "chunk_val_dataset = build_in_out_pair_dataset(val_dataset, **in_out_parameters)\n",
    "\n",
    "chunk_train_dl = DataLoader(chunk_train_dataset, **dataloader_parameters, shuffle=True)\n",
    "chunk_val_dl = DataLoader(chunk_val_dataset, **dataloader_parameters)\n",
    "\n",
    "train_dataloader = DataLoader(train_dataset, **dataloader_parameters)\n",
    "val_dataloader = DataLoader(val_dataset, **dataloader_parameters)"
   ],
   "metadata": {
    "collapsed": false,
    "pycharm": {
     "name": "#%%\n"
    }
   }
  },
  {
   "cell_type": "code",
   "execution_count": 5,
   "outputs": [],
   "source": [
    "def train_rnn_and_plot_different_forecast_types(rnn):\n",
    "    n_plots = 4\n",
    "    forecaster = LightningForecaster(model=rnn)\n",
    "\n",
    "    wandb_logger = WandbLogger(\n",
    "        save_dir=f'{ROOT_DIR}/results',\n",
    "        project='notebook-lstm-forecast-types-chunkyness-evaluation',\n",
    "        name=f'{rnn.name()}_{attractor_name}_{rnn.forecast_type}'\n",
    "    )\n",
    "\n",
    "    wandb_logger.experiment.config.update({\n",
    "        'forecaster': {'name': rnn.name(), **rnn.hyperparams},\n",
    "        'data': {'attractor': attractor_name, **data_parameters},\n",
    "        'dataloader': dataloader_parameters,\n",
    "        'experiment': experiment_parameters\n",
    "    })\n",
    "\n",
    "    trainer = pl.Trainer(\n",
    "        max_epochs=experiment_parameters['max_epochs'],\n",
    "        callbacks=[EarlyStopping('val_loss', patience=5), ForecastMetricLogger(train_dataset, val_dataset)],\n",
    "        logger=wandb_logger)\n",
    "\n",
    "    trainer.fit(forecaster, train_dataloaders=chunk_train_dl, val_dataloaders=chunk_val_dl)\n",
    "\n",
    "    for name, data, dataloader in [('train', train_data, train_dataloader), ('validation', val_data, val_dataloader)]:\n",
    "        labels = [f'ground truth ({name})']\n",
    "        tensors = [data]\n",
    "        for forecast_function_name in rnn.get_applicable_forecast_functions().keys():\n",
    "            forecaster.prediction_func_name = forecast_function_name\n",
    "            predictions = torch.concat(trainer.predict(forecaster, dataloaders=dataloader))\n",
    "            labels.append(f'prediction ({forecast_function_name})')\n",
    "            tensors.append(predictions)\n",
    "        plot_1d_trajectories(labels=labels, tensors=tensors, n_plots=n_plots)\n",
    "    wandb_logger.experiment.finish(quiet=True)"
   ],
   "metadata": {
    "collapsed": false,
    "pycharm": {
     "name": "#%%\n"
    }
   }
  },
  {
   "cell_type": "code",
   "execution_count": null,
   "outputs": [],
   "source": [
    "train_rnn_and_plot_different_forecast_types(rnn=MultiTaskRNN(model='GRU', forecast_type='one_by_one', space_dim=space_dim, **common_model_parameters))"
   ],
   "metadata": {
    "collapsed": false,
    "pycharm": {
     "name": "#%%\n",
     "is_executing": true
    }
   }
  },
  {
   "cell_type": "code",
   "execution_count": null,
   "outputs": [],
   "source": [
    "train_rnn_and_plot_different_forecast_types(rnn=MultiTaskRNN(model='LSTM', forecast_type='one_by_one', space_dim=space_dim, **common_model_parameters))"
   ],
   "metadata": {
    "collapsed": false,
    "pycharm": {
     "name": "#%%\n"
    }
   }
  },
  {
   "cell_type": "code",
   "execution_count": null,
   "outputs": [],
   "source": [
    "train_rnn_and_plot_different_forecast_types(rnn=MultiTaskRNN(model='LSTM', forecast_type='multi', space_dim=space_dim, **common_model_parameters))"
   ],
   "metadata": {
    "collapsed": false,
    "pycharm": {
     "name": "#%%\n"
    }
   }
  },
  {
   "cell_type": "code",
   "execution_count": null,
   "outputs": [],
   "source": [],
   "metadata": {
    "collapsed": false,
    "pycharm": {
     "name": "#%%\n"
    }
   }
  }
 ],
 "metadata": {
  "kernelspec": {
   "display_name": "Python 3",
   "language": "python",
   "name": "python3"
  },
  "language_info": {
   "codemirror_mode": {
    "name": "ipython",
    "version": 2
   },
   "file_extension": ".py",
   "mimetype": "text/x-python",
   "name": "python",
   "nbconvert_exporter": "python",
   "pygments_lexer": "ipython2",
   "version": "2.7.6"
  }
 },
 "nbformat": 4,
 "nbformat_minor": 0
}